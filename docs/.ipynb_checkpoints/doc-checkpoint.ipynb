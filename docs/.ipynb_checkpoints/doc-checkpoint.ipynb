{
 "cells": [
  {
   "cell_type": "markdown",
   "metadata": {},
   "source": [
    "<!-- dom:TITLE: A Title -->\n",
    "# A Title\n",
    "<!-- dom:AUTHOR: Rico A.R. Picone Email:rpicone@stmartin.edu at Department of Mechanical Engineering, Saint Martin's University. -->\n",
    "<!-- Author: -->  \n",
    "**Rico A.R. Picone** (email: `rpicone@stmartin.edu`), Department of Mechanical Engineering, Saint Martin's University.\n",
    "\n",
    "Date: **Aug 25, 2017**\n",
    "\n",
    "Copyright 2017, Rico A.R. Picone. Released under CC Attribution 4.0 license\n",
    "\n",
    "**Summary.** This is a paragraph with the heading \"Summary.\" interesting that this is a thing\n",
    "\n",
    "\n",
    "\n",
    "\n",
    "\n",
    "\n",
    "\n",
    "\n",
    "\n",
    "\n",
    "# A Foo Section\n",
    "<div id=\"section:foo\"></div>\n",
    "\n",
    "\n",
    "\n",
    "We address making things up [[Grivet1993]](#Grivet1993).\n",
    "\n",
    "\n",
    "Something cool."
   ]
  },
  {
   "cell_type": "markdown",
   "metadata": {},
   "source": [
    "<!-- Equation labels as ordinary links -->\n",
    "<div id=\"ode\"></div>\n",
    "\n",
    "$$\n",
    "\\begin{equation}\n",
    "x'(t) = -ax(t), \\quad t \\in (0,T_0], \\label{ode} \\tag{1}\n",
    "\\end{equation}\n",
    "$$"
   ]
  },
  {
   "cell_type": "markdown",
   "metadata": {},
   "source": [
    "<!-- Equation labels as ordinary links -->\n",
    "<div id=\"initial:value\"></div>\n",
    "\n",
    "$$\n",
    "\\begin{equation} \n",
    "x(0)  = I,                         \\label{initial:value} \\tag{2}\n",
    "\\end{equation}\n",
    "$$"
   ]
  },
  {
   "cell_type": "markdown",
   "metadata": {},
   "source": [
    "where $a$, $I$, and $T$ are maths.\n",
    "\n",
    " 1. <div id=\"Grivet1993\"></div> **J.-P. Grivet**. \n",
    "    Simulation of Magnetic Resonance Experiments,\n",
    "    *American Journal of Physics*,\n",
    "    61(12),\n",
    "    pp. 1133-1139,\n",
    "    [doi: 10.1119/1.17309](http://dx.doi.org/10.1119/1.17309),\n",
    "    1993,\n",
    "    <http://link.aip.org/link/?AJP/61/1133/1>."
   ]
  }
 ],
 "metadata": {
  "kernelspec": {
   "display_name": "Python 2",
   "language": "python",
   "name": "python2"
  },
  "language_info": {
   "codemirror_mode": {
    "name": "ipython",
    "version": 2
   },
   "file_extension": ".py",
   "mimetype": "text/x-python",
   "name": "python",
   "nbconvert_exporter": "python",
   "pygments_lexer": "ipython2",
   "version": "2.7.13"
  }
 },
 "nbformat": 4,
 "nbformat_minor": 2
}
