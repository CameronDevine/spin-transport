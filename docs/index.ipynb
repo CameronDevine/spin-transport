{
 "cells": [
  {
   "cell_type": "markdown",
   "metadata": {},
   "source": [
    "<!-- dom:TITLE: The *spin-transport* documentation -->\n",
    "# The *spin-transport* documentation\n",
    "<!-- dom:AUTHOR: Rico A.R. Picone Email:rpicone@stmartin.edu at Department of Mechanical Engineering, Saint Martin's University -->\n",
    "<!-- Author: -->  \n",
    "**Rico A.R. Picone** (email: `rpicone@stmartin.edu`), Department of Mechanical Engineering, Saint Martin's University\n",
    "\n",
    "Date: **Aug 30, 2017**\n",
    "\n",
    "Copyright 2017, Rico A.R. Picone. Released under CC Attribution 4.0 license\n",
    "\n",
    "**Summary.** The *spin-transport* software ([GitHub](https://github.com/ricopicone/spin-transport)) is for the dynamic simulation of bulk spin transport---diffusion and separation---in solid media.\n",
    "The project is open-source and still in development.\n",
    "\n",
    "\n",
    "\n",
    "\n",
    "\n",
    "\n",
    "\n",
    "\n",
    "\n",
    "# Installation\n",
    "<div id=\"section:installation\"></div>\n",
    "\n",
    "# spin-transport: introduction\n",
    "\n",
    "This repository contains the (developing) open-source code for simulating bulk spin transport---diffusion and separation---in solid media. Multi-spin-species and magnetic resonance simulations are in development.\n",
    "\n",
    "This is a [Python](https://www.python.org/) and [FEniCS](https://fenicsproject.org/) project. FEniCS is used to numerically solve the spin transport governing partial differential equations.\n",
    "\n",
    "End users of this project write Python code to interface with FEniCS.\n",
    "\n",
    "## Installation\n",
    "\n",
    "One must first have a working installation of FEniCS.\n",
    "This README assumes the use of [Docker](https://www.docker.com/) for installation, which is documented [here](http://fenics.readthedocs.io/projects/containers/en/latest/).\n",
    "\n",
    "Then [clone](https://help.github.com/articles/cloning-a-repository/) this repository to the host machine.\n",
    "\n",
    "## Workflow\n",
    "\n",
    "The FEniCS docs have a section on [workflow](http://fenics.readthedocs.io/projects/containers/en/latest/work_flows.html).\n",
    "There are many ways to instantiate these good practices, but if you're using a \\*nix system, the following may be the easiest.\n",
    "\n",
    "With the cloned `spin-transport` repository as your working directory, create a link in your path to **spin-transport**'s `fenics` executable bash script."
   ]
  },
  {
   "cell_type": "markdown",
   "metadata": {},
   "source": [
    "        ln fenics /usr/local/bin\n"
   ]
  },
  {
   "cell_type": "markdown",
   "metadata": {},
   "source": [
    "Now a FEniCS Python script `foo.py` can be started with the command `fenics foo.py` **from the host** instead of manually starting it from a Docker container.\n",
    "This has several advantages, including that there is no need to move scripts into the container and that the complicated syntax need not be remembered.\n",
    "\n",
    "## Testing the installation\n",
    "\n",
    "To verify that everything is installed correctly, run the Poisson equation demo `ft01_poisson.py` ([source](https://fenicsproject.org/pub/tutorial/html/._ftut1004.html)) in your container.\n",
    "\n",
    "If you installed the `fenics` bash script per the instructions above, you can use the following command (working directory: `spin-transport`)."
   ]
  },
  {
   "cell_type": "markdown",
   "metadata": {},
   "source": [
    "        $ fenics ft01_poisson.py\n"
   ]
  },
  {
   "cell_type": "markdown",
   "metadata": {},
   "source": [
    "If everything is working fine, the output should look something like the following."
   ]
  },
  {
   "cell_type": "markdown",
   "metadata": {},
   "source": [
    "        $ fenics ft01_poisson.py\n",
    "        Calling DOLFIN just-in-time (JIT) compiler, this may take some time.\n",
    "        --- Instant: compiling ---\n",
    "        Calling FFC just-in-time (JIT) compiler, this may take some time.\n",
    "        Calling FFC just-in-time (JIT) compiler, this may take some time.\n",
    "        Calling FFC just-in-time (JIT) compiler, this may take some time.\n",
    "        Solving linear variational problem.\n",
    "        *** Warning: Degree of exact solution may be inadequate for accurate result in errornorm.\n",
    "        Calling FFC just-in-time (JIT) compiler, this may take some time.\n",
    "        Calling FFC just-in-time (JIT) compiler, this may take some time.\n",
    "          Ignoring precision in integral metadata compiled using quadrature representation. Not implemented.\n",
    "        Calling FFC just-in-time (JIT) compiler, this may take some time.\n",
    "        Calling FFC just-in-time (JIT) compiler, this may take some time.\n",
    "        Calling FFC just-in-time (JIT) compiler, this may take some time.\n",
    "        error_L2  = 0.00823509807335\n",
    "        error_max = 1.33226762955e-15\n"
   ]
  },
  {
   "cell_type": "markdown",
   "metadata": {},
   "source": [
    "The directory `spin-transport/poisson` should have been created and should contain two files: `solution.pvd` and `solution000000.vtu`.\n",
    "These files contain the solution data.\n",
    "\n",
    "## Acknowledgement\n",
    "\n",
    "This work is supported by a grant from the Army Research Office, Materials Science Division under grant proposal **Nanoscale Spin Hyperpolarization and Imaging**\n",
    "with PI [John Marohn, PhD](http://marohn.chem.cornell.edu/).\n",
    "\n",
    "## Contributors\n",
    "\n",
    "This project stems from a collaboration among three institutions:\n",
    "\n",
    "%s\n",
    "  :   \n",
    "  [Cornell University](http://www.cornell.edu/),\n",
    "\n",
    "%s\n",
    "  :   \n",
    "  [Saint Martin's University](https://www.stmartin.edu/), and the\n",
    "\n",
    "%s\n",
    "  :   \n",
    "  [University of Washington](http://www.washington.edu/).\n",
    "\n",
    "The lead contributor to this project is [Rico Picone, PhD](http://ricopic.one) of Saint Martin's University, co-PI on the ARO grant.\n",
    "Other contributors include [John Marohn, PhD](http://marohn.chem.cornell.edu/) (Cornell, PI), John A. Sidles, PhD (Washington), Joseph L. Garbini, PhD (Washington), and Corinne Isaac (Cornell).\n",
    "\n",
    "# Short theoretical introduction\n",
    "<div id=\"section:shorttheory\"></div>\n",
    "\n",
    "Here's some code."
   ]
  },
  {
   "cell_type": "code",
   "execution_count": 1,
   "metadata": {
    "collapsed": false
   },
   "outputs": [],
   "source": [
    "x = 5\n",
    "if x > 3:\n",
    "  print('big!')"
   ]
  },
  {
   "cell_type": "markdown",
   "metadata": {},
   "source": [
    "# References"
   ]
  }
 ],
 "metadata": {},
 "nbformat": 4,
 "nbformat_minor": 2
}
