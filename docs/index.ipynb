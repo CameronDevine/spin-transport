{
 "cells": [
  {
   "cell_type": "markdown",
   "metadata": {},
   "source": [
    "<!-- dom:TITLE: The *spin-transport* documentation -->\n",
    "# The *spin-transport* documentation\n",
    "<!-- dom:AUTHOR: Rico A.R. Picone Email:rpicone@stmartin.edu at Department of Mechanical Engineering, Saint Martin's University -->\n",
    "<!-- Author: -->  \n",
    "**Rico A.R. Picone** (email: `rpicone@stmartin.edu`), Department of Mechanical Engineering, Saint Martin's University\n",
    "\n",
    "Date: **Sep 12, 2017**\n",
    "\n",
    "Copyright 2017, Rico A.R. Picone. Released under CC Attribution 4.0 license\n",
    "\n",
    "**Summary.** The *spin-transport* software ([GitHub](https://github.com/ricopicone/spin-transport)) is for the dynamic simulation of bulk spin transport---diffusion and separation---in solid media.\n",
    "The project is open-source and still in development.\n",
    "\n",
    "\n",
    "\n",
    "\n",
    "\n",
    "\n",
    "\n",
    "<!-- ======= Installation ======= -->\n",
    "<!-- <div id=\"section:installation\"></div> -->\n",
    "\n",
    "\n",
    "\n",
    "# spin-transport: introduction\n",
    "\n",
    "This repository contains the (developing) open-source code for simulating bulk spin transport---diffusion and separation---in solid media. Multi-spin-species and magnetic resonance simulations are in development.\n",
    "\n",
    "This is a [Python](https://www.python.org/) and [FEniCS](https://fenicsproject.org/) project. FEniCS is used to numerically solve the spin transport governing partial differential equations.\n",
    "\n",
    "End users of this project write Python code to interface with FEniCS.\n",
    "\n",
    "## Installation\n",
    "\n",
    "One must first have a working installation of FEniCS.\n",
    "This README assumes the use of [Docker](https://www.docker.com/) for installation, which is documented [here](http://fenics.readthedocs.io/projects/containers/en/latest/).\n",
    "\n",
    "Then [clone](https://help.github.com/articles/cloning-a-repository/) this repository to the host machine.\n",
    "\n",
    "## Workflow\n",
    "\n",
    "The FEniCS docs have a section on [workflow](http://fenics.readthedocs.io/projects/containers/en/latest/work_flows.html).\n",
    "There are many ways to instantiate these good practices, but if you're using a \\*nix system, the following may be the easiest.\n",
    "\n",
    "With the cloned `spin-transport` repository as your working directory, create a link in your path to **spin-transport**'s `fenics` executable bash script."
   ]
  },
  {
   "cell_type": "markdown",
   "metadata": {},
   "source": [
    "        ln fenics /usr/local/bin\n"
   ]
  },
  {
   "cell_type": "markdown",
   "metadata": {},
   "source": [
    "Now a FEniCS Python script `foo.py` can be started with the command `fenics foo.py` **from the host** instead of manually starting it from a Docker container.\n",
    "This has several advantages, including that there is no need to move scripts into the container and that the complicated syntax need not be remembered.\n",
    "\n",
    "## Testing the installation\n",
    "\n",
    "To verify that everything is installed correctly, run the Poisson equation demo `ft01_poisson.py` ([source](https://fenicsproject.org/pub/tutorial/html/._ftut1004.html)) in your container.\n",
    "\n",
    "If you installed the `fenics` bash script per the instructions above, you can use the following command (working directory: `spin-transport`)."
   ]
  },
  {
   "cell_type": "markdown",
   "metadata": {},
   "source": [
    "        $ fenics ft01_poisson.py\n"
   ]
  },
  {
   "cell_type": "markdown",
   "metadata": {},
   "source": [
    "If everything is working fine, the output should look something like the following."
   ]
  },
  {
   "cell_type": "markdown",
   "metadata": {},
   "source": [
    "        $ fenics ft01_poisson.py\n",
    "        Calling DOLFIN just-in-time (JIT) compiler, this may take some time.\n",
    "        --- Instant: compiling ---\n",
    "        Calling FFC just-in-time (JIT) compiler, this may take some time.\n",
    "        Calling FFC just-in-time (JIT) compiler, this may take some time.\n",
    "        Calling FFC just-in-time (JIT) compiler, this may take some time.\n",
    "        Solving linear variational problem.\n",
    "        *** Warning: Degree of exact solution may be inadequate for accurate \n",
    "        \tresult in errornorm.\n",
    "        Calling FFC just-in-time (JIT) compiler, this may take some time.\n",
    "        Calling FFC just-in-time (JIT) compiler, this may take some time.\n",
    "          Ignoring precision in integral metadata compiled using quadrature \n",
    "          representation. Not implemented.\n",
    "        Calling FFC just-in-time (JIT) compiler, this may take some time.\n",
    "        Calling FFC just-in-time (JIT) compiler, this may take some time.\n",
    "        Calling FFC just-in-time (JIT) compiler, this may take some time.\n",
    "        error_L2  = 0.00823509807335\n",
    "        error_max = 1.33226762955e-15\n"
   ]
  },
  {
   "cell_type": "markdown",
   "metadata": {},
   "source": [
    "The directory `spin-transport/poisson` should have been created and should contain two files: `solution.pvd` and `solution000000.vtu`.\n",
    "These files contain the solution data.\n",
    "\n",
    "## Acknowledgement\n",
    "\n",
    "This work is supported by a grant from the Army Research Office, Materials Science Division under grant proposal **Nanoscale Spin Hyperpolarization and Imaging**\n",
    "with PI [John Marohn, PhD](http://marohn.chem.cornell.edu/).\n",
    "\n",
    "## Contributors\n",
    "\n",
    "This project stems from a collaboration among three institutions:\n",
    "\n",
    "* [Cornell University](http://www.cornell.edu/),\n",
    "\n",
    "* [Saint Martin's University](https://www.stmartin.edu/), and the\n",
    "\n",
    "* [University of Washington](http://www.washington.edu/).\n",
    "\n",
    "The lead contributor to this project is [Rico Picone, PhD](http://ricopic.one) of Saint Martin's University, co-PI on the ARO grant.\n",
    "Other contributors include [John Marohn, PhD](http://marohn.chem.cornell.edu/) (Cornell, PI), John A. Sidles, PhD (Washington), Joseph L. Garbini, PhD (Washington), and Corinne Isaac (Cornell).\n",
    "\n",
    "# Short theoretical introduction\n",
    "<div id=\"section:shorttheory\"></div>\n",
    "\n",
    "The simulation is based on the two spin-species transport equations presented by Picone [[Picone2014b]](#Picone2014b).\n",
    "These equations present the transport---diffusion and separation---of three conserved quantities represented by the vector-valued function $\\boldsymbol{\\rho}$ of time and a single spatial dimension, taken to be the direction of a background magnetic field $B$ we call *longitudinal*.\n",
    "The three conserved quantities are represented in the \"polarization thermodynamic covector basis\" $e$ by the components [[Picone2014b]](#Picone2014b)\n",
    "\n",
    "* $\\rho_1$: a dimensionless dipole-energy density,\n",
    "\n",
    "* $\\rho_2$: longitudinal nuclear polarization, and\n",
    "\n",
    "* $\\rho_3$: longitudinal electron polarization.\n",
    "\n",
    "Several parameters require definition and are summarized in the following list (note that a \"\\textasciitilde{}\" over a function denotes that it is a function of the dimensionless spatial coordinate). \n",
    "See [[Picone2014b]](#Picone2014b) for details.\n",
    "\n",
    "* $B_d$: maximum dipole-dipole magnetic field.\n",
    "\n",
    "* $\\gamma_2$, $\\gamma_3$: gyromagnetic ratio for nuclei and electrons, respectively.\n",
    "\n",
    "* $\\overline{\\gamma}$: dimensionless ratio $\\gamma_3/\\gamma_2$.\n",
    "\n",
    "* $\\Gamma_2$, $\\Gamma_3$: transport coefficients for nuclear and electron polarization, respectively.\n",
    "\n",
    "* $\\overline{\\Gamma}$: dimensionless ratio $\\Gamma_3/\\Gamma_2$.\n",
    "\n",
    "* $\\Delta_2$, $\\Delta_3$: constant spin densities in solid medium for nuclei and electrons, respectively.\n",
    "\n",
    "* $\\overline{\\Delta}$: dimensionless ratio $\\Delta_3/\\Delta_2$.\n",
    "\n",
    "* $\\overline{r}$: dimensionless spatial coordinate $(\\partial_r B(r)|_{r=0}/B_d) r$.\n",
    "\n",
    "* $\\overline{t}$: dimensionless time $\\Gamma_2 (\\partial_r B(r)|_{r=0}/B_d)^2 t$.\n",
    "\n",
    "* $\\overline{B}$: ratio of magnetic fields $\\partial_{\\overline{r}} \\tilde{B}/B_d$.\n",
    "\n",
    "* $\\overline{c}$: ratio of ratios $\\overline{B} (1+\\overline{\\Delta})/(1+\\overline{\\gamma}\\overline{\\Delta})$.\n",
    "\n",
    "**two-species magnetization transport equations.**\n",
    "The preferred form of the continuity equation is in the polarization basis with the dimensionless spatial coordinate and time variable, which we call the *two-species magnetization transport equations*:"
   ]
  },
  {
   "cell_type": "markdown",
   "metadata": {},
   "source": [
    "$$\n",
    "\\partial_{\\overline{t}} \\rho_1 \n",
    "\t=\n",
    "\t-\\frac{\\overline{c}^2}{1+\\overline{\\Delta}}\n",
    "\t\\left(\n",
    "\t\t\\left(\n",
    "\t\t\t1 - \\rho_2^2\n",
    "\t\t\\right)\n",
    "\t\t+\n",
    "\t\t\\overline{\\Gamma}\\overline{\\Delta}\\overline{\\gamma}^2\n",
    "\t\t\\left(\n",
    "\t\t\t1 - \\rho_3^3\n",
    "\t\t\\right)\n",
    "\t\\right)\n",
    "\t\\text{arctanh }\\rho_1 + \n",
    "\t\\nonumber\n",
    "$$"
   ]
  },
  {
   "cell_type": "markdown",
   "metadata": {},
   "source": [
    "<!-- Equation labels as ordinary links -->\n",
    "<div id=\"_auto1\"></div>\n",
    "\n",
    "$$\n",
    "\\begin{equation} \n",
    "\t-\\frac{\\overline{c}}{1+\\overline{\\Delta}}\n",
    "\t\\left(\n",
    "\t\t\\partial_{\\overline{r}} \\rho_2 - \\overline{\\Gamma}\\overline{\\Delta}\\overline{\\gamma} \\partial_{\\overline{r}} \\rho_3\n",
    "\t\\right)\n",
    "\t+ ( 1 + \\overline{\\Gamma} )\\, \\partial_{\\overline{r}}^2 \\rho_1 \n",
    "\\label{_auto1} \\tag{1}\n",
    "\\end{equation}\n",
    "$$"
   ]
  },
  {
   "cell_type": "markdown",
   "metadata": {},
   "source": [
    "<!-- Equation labels as ordinary links -->\n",
    "<div id=\"_auto2\"></div>\n",
    "\n",
    "$$\n",
    "\\begin{equation} \n",
    "\t%\n",
    "\t\\partial_{\\overline{t}} \\rho_2 \n",
    "\t=\n",
    "\t\\partial_{\\overline{r}}\n",
    "\t\\left(\n",
    "\t\t\\overline{c}\n",
    "\t\t\\left( 1 - \\rho_2^2 \\right)\n",
    "\t\t\\text{arctanh }\\rho_1\n",
    "\t\\right)\n",
    "\t+ \\partial_{\\overline{r}}^2 \\rho_2 \n",
    "\\label{_auto2} \\tag{2}\n",
    "\\end{equation}\n",
    "$$"
   ]
  },
  {
   "cell_type": "markdown",
   "metadata": {},
   "source": [
    "<!-- Equation labels as ordinary links -->\n",
    "<div id=\"_auto3\"></div>\n",
    "\n",
    "$$\n",
    "\\begin{equation} \n",
    "\t\\partial_{\\overline{t}} \\rho_3\n",
    "\t=\n",
    "\t- \n",
    "\t\\overline{\\Gamma}\\overline{\\gamma}\n",
    "\t\\partial_{\\overline{r}}\n",
    "\t\\left(\n",
    "\t\t\\overline{c}\n",
    "\t\t\\left( 1 - \\rho_3^2 \\right)\n",
    "\t\t\\text{arctanh }\\rho_1\n",
    "\t\\right)\n",
    "\t+ \\overline{\\Gamma} \\partial_{\\overline{r}}^2 \\rho_3 .\n",
    "\\label{_auto3} \\tag{3}\n",
    "\\end{equation}\n",
    "$$"
   ]
  },
  {
   "cell_type": "markdown",
   "metadata": {},
   "source": [
    "Bloch equation dynamics for a each species and $T_1 \\gg T_2$ can be approximated without the transverse dynamics as [[Picone2010]](#Picone2010)"
   ]
  },
  {
   "cell_type": "markdown",
   "metadata": {},
   "source": [
    "<!-- Equation labels as ordinary links -->\n",
    "<div id=\"_auto4\"></div>\n",
    "\n",
    "$$\n",
    "\\begin{equation}\n",
    "\t\\partial_t \\rho_2 = \\frac{\\rho_{20}}{T_{1p}} - \\frac{\\rho_2}{\\tau_p} \n",
    "\\label{_auto4} \\tag{4}\n",
    "\\end{equation}\n",
    "$$"
   ]
  },
  {
   "cell_type": "markdown",
   "metadata": {},
   "source": [
    "<!-- Equation labels as ordinary links -->\n",
    "<div id=\"_auto5\"></div>\n",
    "\n",
    "$$\n",
    "\\begin{equation} \n",
    "\t\\partial_t \\rho_3 = \\frac{\\rho_{30}}{T_{1e}} - \\frac{\\rho_3}{\\tau_e}.\n",
    "\\label{_auto5} \\tag{5}\n",
    "\\end{equation}\n",
    "$$"
   ]
  },
  {
   "cell_type": "markdown",
   "metadata": {},
   "source": [
    "where, for each species,"
   ]
  },
  {
   "cell_type": "markdown",
   "metadata": {},
   "source": [
    "<!-- Equation labels as ordinary links -->\n",
    "<div id=\"_auto6\"></div>\n",
    "\n",
    "$$\n",
    "\\begin{equation}\n",
    "\t\\tau = \\frac{1}{\\frac{1}{T_1} + \\frac{T_2 \\omega_1^2}{1+T_2^2 \\delta^2}}.\n",
    "\\label{_auto6} \\tag{6}\n",
    "\\end{equation}\n",
    "$$"
   ]
  },
  {
   "cell_type": "markdown",
   "metadata": {},
   "source": [
    "# References\n",
    "\n",
    " 1. <div id=\"Picone2014b\"></div> **R. A. R. Picone**. \n",
    "    Separative Magnetization Transport: Theory, Model, and Experiment,\n",
    "    Ph.D. Thesis,\n",
    "    University of Washington,\n",
    "    2014.\n",
    "\n",
    " 2. <div id=\"Picone2010\"></div> **R. A. R. Picone**. \n",
    "    Investigating the Effects of Polarizing Diffusion in Magnetic Resonance Force Microscopy,\n",
    "    M.Sc. Thesis,\n",
    "    University of Washington,\n",
    "    2010."
   ]
  }
 ],
 "metadata": {},
 "nbformat": 4,
 "nbformat_minor": 2
}
