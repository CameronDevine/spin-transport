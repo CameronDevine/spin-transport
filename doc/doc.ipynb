{
 "cells": [
  {
   "cell_type": "markdown",
   "metadata": {},
   "source": [
    "<!-- dom:TITLE: The *spin-transport* documentation -->\n",
    "# The *spin-transport* documentation\n",
    "<!-- dom:AUTHOR: Rico A.R. Picone Email:rpicone@stmartin.edu at Department of Mechanical Engineering, Saint Martin's University -->\n",
    "<!-- Author: -->  \n",
    "**Rico A.R. Picone** (email: `rpicone@stmartin.edu`), Department of Mechanical Engineering, Saint Martin's University\n",
    "\n",
    "Date: **Aug 25, 2017**\n",
    "\n",
    "Copyright 2017, Rico A.R. Picone. Released under CC Attribution 4.0 license\n",
    "\n",
    "**Summary.** The *spin-transport* software ([GitHub](https://github.com/ricopicone/spin-transport)) is for the dynamic simulation of bulk spin transport---diffusion and separation---in solid media.\n",
    "The project is open-source and still in development.\n",
    "\n",
    "\n",
    "\n",
    "\n",
    "\n",
    "\n",
    "\n",
    "\n",
    "\n",
    "# Installation\n",
    "<div id=\"section:installation\"></div>\n",
    "\n",
    "# Short theoretical introduction\n",
    "<div id=\"section:shorttheory\"></div>\n",
    "\n",
    "\n",
    "\n",
    "# References"
   ]
  }
 ],
 "metadata": {},
 "nbformat": 4,
 "nbformat_minor": 2
}
